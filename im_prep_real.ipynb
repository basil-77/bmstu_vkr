{
 "cells": [
  {
   "cell_type": "code",
   "execution_count": 13,
   "id": "5257c9f4",
   "metadata": {},
   "outputs": [],
   "source": [
    "import numpy as np\n",
    "import rawpy\n",
    "\n",
    "import os\n",
    "\n",
    "import tensorflow as tf\n",
    "from tensorflow.keras.preprocessing import image\n",
    "import tensorflow.keras.backend as K\n",
    "from tensorflow.keras.utils import img_to_array\n",
    "\n",
    "from tqdm import tqdm\n",
    "\n",
    "import matplotlib.pyplot as plt"
   ]
  },
  {
   "cell_type": "code",
   "execution_count": 2,
   "id": "09253983",
   "metadata": {},
   "outputs": [],
   "source": [
    "import warnings\n",
    "warnings.filterwarnings(\"ignore\")"
   ]
  },
  {
   "cell_type": "code",
   "execution_count": 5,
   "id": "3f19e1d5",
   "metadata": {},
   "outputs": [
    {
     "name": "stderr",
     "output_type": "stream",
     "text": [
      "Processing real_iso_3200_0007.CR3: 100%|███████████████████████████████████████████████| 10/10 [00:35<00:00,  3.59s/it]\n"
     ]
    }
   ],
   "source": [
    "path_img = './real'\n",
    "images_real = []\n",
    "files = os.listdir(path_img)\n",
    "for filename in (pbar := tqdm(files)):\n",
    "    pbar.set_description(f\"Processing {filename}\")\n",
    "    filename = os.path.join(path_img, filename)\n",
    "    raw = rawpy.imread(filename)\n",
    "    rgb_read = raw.postprocess(use_camera_wb=True, output_color=rawpy.ColorSpace.sRGB)\n",
    "    images_real.append(rgb_read)\n",
    "    \n",
    "images_real = np.array(images_real)\n",
    "\n",
    "np.save('images_real', images_real)"
   ]
  },
  {
   "cell_type": "code",
   "execution_count": 8,
   "id": "bb422ade",
   "metadata": {},
   "outputs": [
    {
     "data": {
      "text/plain": [
       "['real_iso_10000_0008.CR3',\n",
       " 'real_iso_10000_0009.CR3',\n",
       " 'real_iso_10000_0010.CR3',\n",
       " 'real_iso_1600_0001.CR3',\n",
       " 'real_iso_3200_0002.CR3',\n",
       " 'real_iso_3200_0003.CR3',\n",
       " 'real_iso_3200_0004.CR3',\n",
       " 'real_iso_3200_0005.CR3',\n",
       " 'real_iso_3200_0006.CR3',\n",
       " 'real_iso_3200_0007.CR3']"
      ]
     },
     "execution_count": 8,
     "metadata": {},
     "output_type": "execute_result"
    }
   ],
   "source": [
    "files"
   ]
  },
  {
   "cell_type": "code",
   "execution_count": null,
   "id": "a7fddc9b",
   "metadata": {},
   "outputs": [],
   "source": []
  }
 ],
 "metadata": {
  "kernelspec": {
   "display_name": "Python 3 (ipykernel)",
   "language": "python",
   "name": "python3"
  },
  "language_info": {
   "codemirror_mode": {
    "name": "ipython",
    "version": 3
   },
   "file_extension": ".py",
   "mimetype": "text/x-python",
   "name": "python",
   "nbconvert_exporter": "python",
   "pygments_lexer": "ipython3",
   "version": "3.9.13"
  }
 },
 "nbformat": 4,
 "nbformat_minor": 5
}
